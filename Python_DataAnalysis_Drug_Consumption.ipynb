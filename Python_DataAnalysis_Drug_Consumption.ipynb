{
  "nbformat": 4,
  "nbformat_minor": 0,
  "metadata": {
    "colab": {
      "name": "Python_DataAnalysis_Drug_Consumption.ipynb",
      "private_outputs": true,
      "provenance": [],
      "authorship_tag": "ABX9TyPCrsPWf8RzJRba5X+tznSa"
    },
    "kernelspec": {
      "name": "python3",
      "display_name": "Python 3"
    },
    "language_info": {
      "name": "python"
    }
  },
  "cells": [
    {
      "cell_type": "markdown",
      "source": [
        "##Import Libraries 📚"
      ],
      "metadata": {
        "id": "PR5Bhn3QUjeK"
      }
    },
    {
      "cell_type": "code",
      "execution_count": null,
      "metadata": {
        "id": "dyXlDK9fTKI8"
      },
      "outputs": [],
      "source": [
        "#Import Packages\n",
        "# essential libraries\n",
        "import json\n",
        "import random\n",
        "from urllib.request import urlopen\n",
        "\n",
        "# storing and anaysis\n",
        "import numpy as np\n",
        "import pandas as pd\n",
        "import random \n",
        "import math\n",
        "\n",
        "# visualization\n",
        "import matplotlib.pyplot as plt\n",
        "import seaborn as sns\n",
        "import plotly.express as px\n",
        "import plotly.graph_objs as go\n",
        "import plotly.figure_factory as ff\n",
        "!pip install pywaffle\n",
        "from pywaffle import Waffle\n",
        "\n",
        "# converter\n",
        "from pandas.plotting import register_matplotlib_converters\n",
        "register_matplotlib_converters()   \n",
        "from sklearn.preprocessing import LabelEncoder\n",
        "\n",
        "# hide warnings\n",
        "import warnings\n",
        "warnings.filterwarnings('ignore')"
      ]
    },
    {
      "cell_type": "markdown",
      "source": [
        "# Import Dataset 📁"
      ],
      "metadata": {
        "id": "vAJgodRUYtTF"
      }
    },
    {
      "cell_type": "code",
      "source": [
        "#importation method \n",
        "path =  'https://archive.ics.uci.edu/ml/machine-learning-databases/00373/drug_consumption.data'\n",
        "title=['ID','Age','Gender','Education','Country','Ethnicity','Nscore','Escore','Oscore','Ascore','Cscore','Impulsive','SS','Alcohol','Amphet',' Amyl','Benzos','Caff','Canabis','Choc','Coke','Crack','Extasy','Heroin','Ketamine','Leghal','LSD','Meth','Mushrooms','Nicotine','sumer','VSA']\n",
        "drug_consumption = pd.read_csv(path,sep=',',names=title)\n",
        "drug_consumption.head()"
      ],
      "metadata": {
        "id": "ICtPjzNCT5Xi"
      },
      "execution_count": null,
      "outputs": []
    },
    {
      "cell_type": "code",
      "source": [
        "drug_consumption.shape"
      ],
      "metadata": {
        "id": "q506FQ4Jfy-S"
      },
      "execution_count": null,
      "outputs": []
    },
    {
      "cell_type": "code",
      "source": [
        "drug_consumption.info()\n",
        "drug_consumption.describe()"
      ],
      "metadata": {
        "id": "2blu8Dj1YIXL"
      },
      "execution_count": null,
      "outputs": []
    },
    {
      "cell_type": "markdown",
      "source": [
        "The dataset is made of 31 columns and 1885 rows. In the 31 columns, 18 are drugs, 7 are personality traits and 5 are demographic types."
      ],
      "metadata": {
        "id": "ibj13NbKYcQi"
      }
    },
    {
      "cell_type": "markdown",
      "source": [
        "#Data Exploration ✨\n",
        "Categorise into the following columns:\n",
        "\n",
        "\n",
        "*   Demographics\n",
        "*   Personality\n",
        "*   Legal & Illegal Drugs\n",
        "\n"
      ],
      "metadata": {
        "id": "F_RcUFpnhJ2b"
      }
    },
    {
      "cell_type": "code",
      "source": [
        "demographic_columns = ['Age','Gender','Education','Country','Ethnicity']\n",
        "\n",
        "personality_columns = ['Nscore','Escore','Oscore','Ascore','Cscore','Impulsive','SS']\n",
        "\n",
        "feature_columns = demographic_columns + personality_columns\n",
        "\n",
        "drugs_columns = ['Alcohol','Amphet',' Amyl','Benzos','Caff','Canabis','Choc','Coke','Crack','Extasy','Heroin','Ketamine','Leghal','LSD','Meth','Mushrooms','Nicotine','sumer','VSA']\n",
        "\n",
        "drugs_legal = ['Alcohol', 'Caff', 'Choc', 'Nicotine']\n",
        "\n",
        "drugs_illegal = list(set(drugs_columns) - set(drugs_legal))\n",
        "\n",
        "all_columns = feature_columns + drugs_columns"
      ],
      "metadata": {
        "id": "ng6Xsfi5XOKB"
      },
      "execution_count": null,
      "outputs": []
    },
    {
      "cell_type": "markdown",
      "source": [
        "Since the dataset is already filled with numerical values, converting them to arguments to get a better visualization of the informations."
      ],
      "metadata": {
        "id": "7XC4JYV_jwW5"
      }
    },
    {
      "cell_type": "code",
      "source": [
        "#dictionnary for the usage of drugs\n",
        "using_dictionnary={\n",
        "    'CL0': 'Never Used',\n",
        "    'CL1': 'Used over a Decade Ago',\n",
        "    'CL2': 'Used in Last Decade',\n",
        "    'CL3': 'Used in Last Year',\n",
        "    'CL4': 'Used in Last Month',\n",
        "    'CL5': 'Used in Last Week',\n",
        "    'CL6': 'Used in Last Day',\n",
        "}\n",
        "#dictionnary for the education\n",
        "education_dictionnary={\n",
        "    -2.43591: 'Left school before 16 years',\n",
        "    -1.73790: 'Left school at 16 years',\n",
        "    -1.43719: 'Left school at 17 years',\n",
        "    -1.22751: 'Left school at 18 years',\n",
        "    -0.61113: 'Some college or university, no certificate or degree',\n",
        "    -0.05921: 'Professional certificate/ diploma',\n",
        "     0.45468: 'University degree',\n",
        "     1.16365: 'Masters degree',\n",
        "     1.98437: 'Doctorate degree',\n",
        "}\n",
        "#dictionnary for the countries\n",
        "country_dictionnary={\n",
        "    -0.09765: 'Australia',\n",
        "    0.24923: 'Canada',\n",
        "    -0.46841: 'New Zealand',\n",
        "    -0.28519: 'Other',\n",
        "    0.21128: 'Republic of Ireland',\n",
        "    0.96082: 'UK',\n",
        "    -0.57009: 'USA',\n",
        "}\n",
        "#dictionnary for the ethnicities\n",
        "ethnicity_dictionnary={\n",
        "    -0.50212: 'Asian',\n",
        "    -1.10702: 'Black',\n",
        "    1.90725: 'Mixed-Black/Asian',\n",
        "    0.12600: 'Mixed-White/Asian',\n",
        "    -0.22166: 'Mixed-White/Black',\n",
        "     0.11440: 'Other',\n",
        "    -0.31685: 'White',\n",
        "\n",
        "}\n",
        "#dictionnary for the ages\n",
        "age_dictionnary={\n",
        "    -0.95197: '18-24',\n",
        "    -0.07854: '25-34',\n",
        "    0.49788: '35-44',\n",
        "    1.09449: '45-54',\n",
        "    1.82213: '55-64',\n",
        "    2.59171: '65+',\n",
        "}\n",
        "#dictionnary for the genders\n",
        "gender_dictionnary={\n",
        "    0.48246: 'Female',\n",
        "    -0.48246: 'Male',\n",
        "\n",
        "}\n",
        "#dictionnary for splitting the drugs usage in two groups : User & Non-user\n",
        "user_dictionnary={\n",
        "    'CL6': 'User',\n",
        "    'CL5': 'User',\n",
        "    'CL4': 'User',\n",
        "    'CL3': 'User',\n",
        "    'CL2': 'Non-user',\n",
        "    'CL1': 'Non-user',\n",
        "    'CL0': 'Non-user',\n",
        "\n",
        "}"
      ],
      "metadata": {
        "id": "_flgarBShREo"
      },
      "execution_count": null,
      "outputs": []
    },
    {
      "cell_type": "code",
      "source": [
        "#Let's create the drug_consumption_viz dataset\n",
        "drug_consumption_viz=drug_consumption.copy() \n",
        "drug_consumption_viz['Education'] = list(map(lambda x : education_dictionnary[round(x, 6)] ,drug_consumption['Education']))\n",
        "drug_consumption_viz['Country'] = list(map(lambda x : country_dictionnary[round(x, 6)] ,drug_consumption['Country']))\n",
        "drug_consumption_viz['Ethnicity'] = list(map(lambda x : ethnicity_dictionnary[round(x, 6)] ,drug_consumption['Ethnicity']))\n",
        "drug_consumption_viz['Age'] = list(map(lambda x : age_dictionnary[round(x, 6)] ,drug_consumption['Age']))\n",
        "drug_consumption_viz['Gender'] = list(map(lambda x : gender_dictionnary[round(x, 6)] ,drug_consumption['Gender']))"
      ],
      "metadata": {
        "id": "LuEuvEd_kVpp"
      },
      "execution_count": null,
      "outputs": []
    },
    {
      "cell_type": "code",
      "source": [
        "drug_consumption_viz.head()"
      ],
      "metadata": {
        "id": "ADHEzNn_w9yN"
      },
      "execution_count": null,
      "outputs": []
    },
    {
      "cell_type": "markdown",
      "source": [
        "# Examine the usage of drugs"
      ],
      "metadata": {
        "id": "LE7khWjRxFfg"
      }
    },
    {
      "cell_type": "code",
      "source": [
        "#library bokeh\n",
        "from math import pi\n",
        "from bokeh.palettes import Category20c\n",
        "from bokeh.plotting import figure, show\n",
        "from bokeh.transform import cumsum\n",
        "from bokeh.io import output_notebook\n",
        "from bokeh.resources import INLINE\n",
        "output_notebook(INLINE)\n",
        "\n",
        "drug_consumption_viz[drugs_columns[0]] = list(map(lambda x : using_dictionnary[x] ,drug_consumption[drugs_columns[0]])) # we map our numerical values to categorical using our dictionnary\n",
        "data = drug_consumption_viz[drugs_columns[0]].value_counts().reset_index(name='value').rename(columns={'index': 'usage'}) #we reset and rename index for easier usage of the bokeh library\n",
        "data['angle'] = data['value']/data['value'].sum() * 2*pi #angle of values we are going to plot \n",
        "data['color'] = Category20c[len(data)] #different colors for each value\n",
        "\n",
        "#figure informations :\n",
        "p = figure(height=350, title=\"Usage of Alcohol\", toolbar_location=None, tools=\"hover\", tooltips=\"@usage: @value\", x_range=(-0.5, 1.0))\n",
        "\n",
        "p.wedge(x=0, y=1, radius=0.4,start_angle=cumsum('angle', include_zero=True), end_angle=cumsum('angle'),line_color=\"white\", fill_color='color', legend_field='usage', source=data)\n",
        "\n",
        "#plot figure\n",
        "p.axis.axis_label = None\n",
        "p.axis.visible = False\n",
        "p.grid.grid_line_color = None\n",
        "show(p)"
      ],
      "metadata": {
        "id": "PyNMWvARw_4o"
      },
      "execution_count": null,
      "outputs": []
    },
    {
      "cell_type": "markdown",
      "source": [
        "The pie chart shows that the Alchool consumption is mostly a daily up to a weekly consumption, which is not suprising for a legal drug.\n",
        "\n",
        "Let's examine now this use for all of the others drugs:"
      ],
      "metadata": {
        "id": "qqoMFA4JxXTU"
      }
    },
    {
      "cell_type": "code",
      "source": [
        "#for a better visualization, this method return the list of colors needed for each plot in function of the usage \n",
        "def get_list_color(list,color):\n",
        "  color_output=[]\n",
        "  for i in list:\n",
        "   for kv in color.items():\n",
        "    if i==kv[0] : color_output.append(kv[1]) \n",
        "  return  color_output"
      ],
      "metadata": {
        "id": "q27_U4lsxJk3"
      },
      "execution_count": null,
      "outputs": []
    },
    {
      "cell_type": "code",
      "source": [
        "#multiplot with matplotlib\n",
        "color= {'CL0':  '#00cca3',\n",
        "           'CL1':  '#00ffcc',\n",
        "           'CL2':  '#1affd1',\n",
        "           'CL3':  '#33ffd6',\n",
        "           'CL4':  '#4dffdb',\n",
        "           'CL5':  '#66ffe0',\n",
        "           'CL6':  '#80ffe6'}\n",
        "fig, axes = plt.subplots(6,3 ,figsize = (16,16))\n",
        "fig.suptitle('Usage of differents drugs',fontsize=14, y=1.02,weight='black')  \n",
        "#color=['#00cca3','#00ffcc','#1affd1','#33ffd6','#4dffdb','#66ffe0','#80ffe6']\n",
        "k=1\n",
        "for i in range(6):\n",
        "    for j in range(3):\n",
        "        labels = drug_consumption[drugs_columns[k]].value_counts().index.tolist()\n",
        "        axes[i][j].pie(x=drug_consumption[drugs_columns[k]].value_counts(), autopct='%.1f%%', shadow=True, startangle=180,colors=get_list_color(labels,color))\n",
        "        axes[i][j].set_title(drugs_columns[k])\n",
        "        k+=1\n",
        "\n",
        "axes[0][0].legend(title='Usage',labels=labels)\n",
        "plt.tight_layout()\n",
        "plt.show()"
      ],
      "metadata": {
        "id": "vAZrL2C_xe_1"
      },
      "execution_count": null,
      "outputs": []
    },
    {
      "cell_type": "markdown",
      "source": [
        "We can see that there is a few illegal drugs that have the highest rate of 'never used', such as Ketamine, Meth, Heroin and Crack with almost 80%. Otherwise, for each drugs almost half of the participants never tried it except for the canabis which only have ~22% of \"Never used\". In the legal drugs we can see that almost 75% of the participants have a daily use of Coffee which is interesting regarding the effect Coffe is well known for such as \" insomnia, nervousness, restlessness, nausea, increased heart rate, and other side effects. Larger doses might cause headache, anxiety, and chest pain \"."
      ],
      "metadata": {
        "id": "BNhy6Rt43135"
      }
    },
    {
      "cell_type": "code",
      "source": [
        "#Splitting for each drugs the User/Non-user\n",
        "for i in range(len(drugs_columns)):\n",
        "  drug_consumption_viz[drugs_columns[i]] = list(map(lambda x : user_dictionnary[x] ,drug_consumption[drugs_columns[i]]))"
      ],
      "metadata": {
        "id": "DeVW-fyt92v3"
      },
      "execution_count": null,
      "outputs": []
    },
    {
      "cell_type": "code",
      "source": [
        "output_notebook(INLINE)\n",
        "data = drug_consumption_viz[drugs_columns[0]].value_counts().reset_index(name='value').rename(columns={'index': 'usage'}) #we reset and rename index for easier usage of the bokeh library\n",
        "data['angle'] = data['value']/data['value'].sum() * 2*pi #angle of values we are going to plot \n",
        "data['color'] = ['#006d77','#83c5be'] #different colors for each value\n",
        "\n",
        "#figure informations :\n",
        "p = figure(height=350, title=\"Usage of Alchool User/Non-user\", toolbar_location=None, tools=\"hover\", tooltips=\"@usage: @value\", x_range=(-0.5, 1.0))\n",
        "\n",
        "p.wedge(x=0, y=1, radius=0.4,start_angle=cumsum('angle', include_zero=True), end_angle=cumsum('angle'),line_color=\"white\", fill_color='color', legend_field='usage', source=data)\n",
        "\n",
        "#plot figure\n",
        "p.axis.axis_label = None\n",
        "p.axis.visible = False\n",
        "p.grid.grid_line_color = None\n",
        "show(p)"
      ],
      "metadata": {
        "id": "zgui6OCOxg59"
      },
      "execution_count": null,
      "outputs": []
    },
    {
      "cell_type": "markdown",
      "source": [
        "We can observe that the illegal drug is highly used. Now, let's see the user/non-user repartition for the other drugs:"
      ],
      "metadata": {
        "id": "Yy6G5W1X_F-n"
      }
    },
    {
      "cell_type": "code",
      "source": [
        "#if categories :\n",
        "color = {'User':  '#006d77',\n",
        "          'Non-user': '#83c5be'}\n",
        "\n",
        "fig, axes = plt.subplots(6,3,figsize = (16,16))\n",
        "fig.suptitle('Usage of differents drugs',fontsize=14, y=1.02,weight='black')  \n",
        "k=1\n",
        "for i in range(6):\n",
        "    for j in range(3):\n",
        "        labels = drug_consumption_viz[drugs_columns[k]].value_counts().index.tolist()\n",
        "        axes[i][j].pie(x=drug_consumption_viz[drugs_columns[k]].value_counts(), autopct='%.1f%%', shadow=False,labels=labels,colors=get_list_color(labels,color))\n",
        "        axes[i][j].set_title(drugs_columns[k])\n",
        "        k+=1\n",
        "\n",
        "#axes[0][0].legend(title='Usage',labels=['Used','Never used'])\n",
        "plt.tight_layout()\n",
        "plt.show()"
      ],
      "metadata": {
        "id": "m_9FiOOK-xKq"
      },
      "execution_count": null,
      "outputs": []
    },
    {
      "cell_type": "markdown",
      "source": [
        "We may see a wide range of user/non-user representations for illicit and legal substances. To begin, we can detect a tiny percentage of cheaters (0.2%), but we will remove this column from our future forecast because it may create noise. Then we can observe that the most commonly used illicit substance is Cannabis, which has up to 47% of users and is recognized as a getaway drug.\n",
        "\n",
        "* A gateway drug is a habit-forming substance that can lead to the usage of more addictive substances in the future. Alcohol, marijuana, nicotine, and prescription medications are among them.\n",
        "\n",
        "\n",
        "\n",
        "It would be fascinating to examine how users of various categories are distributed over the entire dataset."
      ],
      "metadata": {
        "id": "UADFjU2dAv9-"
      }
    },
    {
      "cell_type": "markdown",
      "source": [
        "Consumer vs Non-consumer"
      ],
      "metadata": {
        "id": "mIOU55mggKBk"
      }
    },
    {
      "cell_type": "code",
      "source": [
        "drugs_illegal[:-1] #we take all ilegal drugs except sumer\n",
        "\n",
        "# for the next part of our data let's create two more catgories\n",
        "#get the max of consumption for each illegal druf for an individual\n",
        "drug_consumption['Illegal drug use']=drug_consumption[drugs_illegal[:-1]].max(axis=1)\n",
        "drug_consumption_viz['Illegal drug use']=drug_consumption[drugs_illegal[:-1]].max(axis=1)\n",
        "#print(drug_consumption.loc[drug_consumption['Illegal drug use'] == 'CL0'])\n",
        "#do the almost the same but paritionning betwenn user/non-user\n",
        "drug_consumption['Illegal drug user/non-user']=drug_consumption_viz[drugs_illegal[:-1]].max(axis=1)\n",
        "drug_consumption_viz['Illegal drug user/non-user']=drug_consumption_viz[drugs_illegal[:-1]].max(axis=1)\n",
        "#print(drug_consumption_ml.loc[drug_consumption_ml['Illegal drug user/non-user'] == 'Non-user'])"
      ],
      "metadata": {
        "id": "XGUWRsG2isPo"
      },
      "execution_count": null,
      "outputs": []
    },
    {
      "cell_type": "code",
      "source": [
        "#waffle chart\n",
        "#Propottion of drug user within the whole dataset\n",
        "df = drug_consumption.groupby('Illegal drug use').size().reset_index(name='counts')\n",
        "n_categories = df.shape[0]\n",
        "colors = [plt.cm.inferno_r(i/float(n_categories)) for i in range(n_categories)]\n",
        "\n",
        "# Draw Plot and Decorate\n",
        "fig = plt.figure(\n",
        "    FigureClass=Waffle,\n",
        "    plots={\n",
        "        '111': {\n",
        "            'values': df['counts'],\n",
        "            'labels': [\"{0} ({1})\".format(n[1], n[2]) for n in df[['Illegal drug use', 'counts']].itertuples()],\n",
        "            'legend': {'loc': 'upper left', 'bbox_to_anchor': (1.05, 1), 'fontsize': 12},\n",
        "            'title': {'label': 'Count of general drug user', 'loc': 'center', 'fontsize':18}\n",
        "        },\n",
        "    },\n",
        "    rows=10,\n",
        "    columns=20,\n",
        "    colors=colors,\n",
        "    figsize=(9, 9)\n",
        ")\n"
      ],
      "metadata": {
        "id": "VNthw0r3itoZ"
      },
      "execution_count": null,
      "outputs": []
    },
    {
      "cell_type": "code",
      "source": [
        "#Getaway drug analysis : Nicotine\n",
        "df =drug_consumption_viz[drug_consumption_viz['Nicotine']=='User']['Illegal drug use'].value_counts().to_frame()\n",
        "df=df.reset_index()\n",
        "n_categories = df.shape[0]\n",
        "colors = [plt.cm.inferno_r(i/float(n_categories)) for i in range(n_categories)]\n",
        "\n",
        "# Draw Plot and Decorate\n",
        "fig = plt.figure(\n",
        "    FigureClass=Waffle,\n",
        "    plots={\n",
        "        '111': {\n",
        "            'values': df['Illegal drug use'],\n",
        "             'labels': [\"{0} ({1})\".format(n[1], n[2]) for n in df[['index','Illegal drug use']].itertuples()],\n",
        "            'legend': {'loc': 'upper left', 'bbox_to_anchor': (1.05, 1), 'fontsize': 12},\n",
        "            'title': {'label': 'Count of drug user for Nicotine', 'loc': 'center', 'fontsize':18}\n",
        "        },\n",
        "    },\n",
        "    rows=10,\n",
        "    columns=20,\n",
        "    colors=colors,\n",
        "    figsize=(9, 9)\n",
        ")"
      ],
      "metadata": {
        "id": "iR12dNO1ja_B"
      },
      "execution_count": null,
      "outputs": []
    },
    {
      "cell_type": "code",
      "source": [
        "#Getaway drug analysis : Alcohol\n",
        "df =drug_consumption_viz[drug_consumption_viz['Alcohol']=='User']['Illegal drug use'].value_counts().to_frame()\n",
        "df=df.reset_index()\n",
        "n_categories = df.shape[0]\n",
        "colors = [plt.cm.inferno_r(i/float(n_categories)) for i in range(n_categories)]\n",
        "\n",
        "# Draw Plot and Decorate\n",
        "fig = plt.figure(\n",
        "    FigureClass=Waffle,\n",
        "    plots={\n",
        "        '111': {\n",
        "            'values': df['Illegal drug use'],\n",
        "             'labels': [\"{0} ({1})\".format(n[1], n[2]) for n in df[['index','Illegal drug use']].itertuples()],\n",
        "            'legend': {'loc': 'upper left', 'bbox_to_anchor': (1.05, 1), 'fontsize': 12},\n",
        "            'title': {'label': 'Count of drug user for Alcohol', 'loc': 'center', 'fontsize':18}\n",
        "        },\n",
        "    },\n",
        "    rows=10,\n",
        "    columns=20,\n",
        "    colors=colors,\n",
        "    figsize=(9, 9)\n",
        ")"
      ],
      "metadata": {
        "id": "HWEWd9Yojegb"
      },
      "execution_count": null,
      "outputs": []
    },
    {
      "cell_type": "markdown",
      "source": [
        "We can notice that the getaway drugs Nicotine and Alcohol have a higher percentage of illicit drug users. However, because we didn't receive a timeframe for each participant's use, it's difficult to establish if the use of alchool influences the usage of Amphets, or vice versa. We'll look at those relationships in further depth in the Machine Learning section, but it appears that Nicotine or Alchool use is highly linked to the use of other illicit substances.\n"
      ],
      "metadata": {
        "id": "b-J3-ujRjt70"
      }
    },
    {
      "cell_type": "markdown",
      "source": [
        "## Demographic data"
      ],
      "metadata": {
        "id": "GhghHZNRjxuo"
      }
    },
    {
      "cell_type": "code",
      "source": [
        "#demographic data\n",
        "demographic_columns_name=['Education','Country','Ethnicity','Age','Gender']\n",
        "fig, ax =plt.subplots(1,5,figsize=(30,6))\n",
        "k=0\n",
        "for i in range(5):\n",
        "  color=sns.color_palette(\"Pastel2\")\n",
        "  sns.countplot(data=drug_consumption_viz,x=demographic_columns_name[k],ax=ax[i],palette=color)\n",
        "  ax[i].set_xticklabels(ax[i].get_xticklabels(), rotation=90,fontsize=10)\n",
        "  k+=1\n",
        "\n",
        "plt.show()"
      ],
      "metadata": {
        "id": "KhaIIewQjhwA"
      },
      "execution_count": null,
      "outputs": []
    },
    {
      "cell_type": "markdown",
      "source": [
        "Some categories, such as Education and Age, are virtually uniformly divergent, while others, such as Gender, are almost evenly represented. Within the Dataframe's columns, we can see certain unequally represented categories, such as Ethnicity, which has up to 90% white participants, and Country, which has predominantly UK participants."
      ],
      "metadata": {
        "id": "V_mzUCZ0ke4k"
      }
    },
    {
      "cell_type": "code",
      "source": [
        "percent_df_country = (drug_consumption_viz[demographic_columns_name[1]].value_counts()/drug_consumption_viz[demographic_columns_name[1]].count())*100\n",
        "percent_df_country.to_frame()"
      ],
      "metadata": {
        "id": "v2R5jO1gkAYZ"
      },
      "execution_count": null,
      "outputs": []
    },
    {
      "cell_type": "code",
      "source": [
        "percent_df_ethnicity = (drug_consumption_viz[demographic_columns_name[2]].value_counts()/drug_consumption_viz[demographic_columns_name[2]].count())*100\n",
        "percent_df_ethnicity.to_frame()"
      ],
      "metadata": {
        "id": "cFkDXimzknqa"
      },
      "execution_count": null,
      "outputs": []
    },
    {
      "cell_type": "code",
      "source": [
        "#How much fraud is there\n",
        "percent_df_frauds = (drug_consumption_viz['sumer'].value_counts()/drug_consumption_viz['sumer'].count())*100\n",
        "percent_df_frauds.to_frame()"
      ],
      "metadata": {
        "id": "1Sedl4ojkp4W"
      },
      "execution_count": null,
      "outputs": []
    },
    {
      "cell_type": "markdown",
      "source": [
        "We can see that there is a huge difference in the peoples represented in the dataset , they are mainly white from 18-24 from UK and mostly educated. The only demographic column that doesn't show a huge difference in his categories is the Gender. We can observe an alomst 50/50 repartition of the male/female.\n",
        "\n",
        "\n",
        "Let's study in details the parameters of user/ non user :\n",
        "\n",
        "* user/non-user by age\n",
        "* user/non-user by gender\n",
        "* user/non-user by education level"
      ],
      "metadata": {
        "id": "WYcowOWokxKG"
      }
    },
    {
      "cell_type": "code",
      "source": [
        "age=pd.concat([drug_consumption_viz[drug_consumption_viz['Illegal drug user/non-user'] == 'User']['Age'].value_counts(),drug_consumption_viz[drug_consumption_viz['Illegal drug user/non-user'] == 'Non-user']['Age'].value_counts()],axis=1,keys=['User','Non-user'])\n",
        "age.rename(index={'18-24': '20','25-34': '30','35-44': '40','45-54': '50','55-64': '60','65+': '65'})\n",
        "\n",
        "AgePlot = age.plot(kind='bar',figsize=(10,6),alpha=0.6,grid=True,color=['#406788','#023e8a'])\n",
        "AgePlot.set(ylabel = 'Number of Users', xlabel='Age')\n",
        "\n",
        "AgeLabels = ['20','30','40','50','60','65']\n",
        "AgePlot.set_xticklabels(AgeLabels)\n",
        "AgePlot;"
      ],
      "metadata": {
        "id": "PRrZJOkSkupA"
      },
      "execution_count": null,
      "outputs": []
    },
    {
      "cell_type": "markdown",
      "source": [
        "Users are mostly in their twenties. We can observe that as the population ages, the average number of users appears to drop. As a result, illegal drug use is adversely associated to age. But don't forget about the wide range of results that might lead to a mistaken conclusion."
      ],
      "metadata": {
        "id": "UbzIWv5MlvFu"
      }
    },
    {
      "cell_type": "code",
      "source": [
        "gender=pd.concat([drug_consumption_viz[drug_consumption_viz['Illegal drug user/non-user'] == 'User']['Gender'].value_counts(),drug_consumption_viz[drug_consumption_viz['Illegal drug user/non-user'] == 'Non-user']['Gender'].value_counts()],axis=1,keys=['User','Non-user'])\n",
        "\n",
        "GenderPlot = gender.plot(kind='bar',figsize=(10,6),alpha=0.6,grid=True,color=['#406788','#023e8a'])\n",
        "GenderPlot.set(ylabel = 'Number of Users', xlabel='Gender')\n",
        "\n",
        "GenderLabels = ['Male','Female']\n",
        "GenderPlot.set_xticklabels(GenderLabels)\n",
        "GenderPlot;"
      ],
      "metadata": {
        "id": "3JpPFwJMlBrg"
      },
      "execution_count": null,
      "outputs": []
    },
    {
      "cell_type": "markdown",
      "source": [
        "\n",
        "The repatition of the user/non-user by gender shows a majority of male users compared to the range of female users."
      ],
      "metadata": {
        "id": "hfLlt3vsl4U7"
      }
    },
    {
      "cell_type": "code",
      "source": [
        "gender=pd.concat([drug_consumption_viz[drug_consumption_viz['Gender'] == 'Male']['Illegal drug use'].value_counts(),drug_consumption_viz[drug_consumption_viz['Gender'] == 'Female']['Illegal drug use'].value_counts()],axis=1,keys=['Male','Female'])\n",
        "\n",
        "GenderPlot = gender.plot(kind='bar',figsize=(10,6),alpha=0.6,grid=True,color=['#006d77','#83c5be'])\n",
        "GenderPlot.set(ylabel = 'Number of Users', xlabel='Gender')\n",
        "\n",
        "GenderLabels = ['Used in Last Day','Used in Last Week','Used in Last Month','Used in Last Year','Used in Last Decade','Used over a Decade Ago','Never Used']\n",
        "GenderPlot.set_xticklabels(GenderLabels)\n",
        "GenderPlot;"
      ],
      "metadata": {
        "id": "KoDuad58l2Fd"
      },
      "execution_count": null,
      "outputs": []
    },
    {
      "cell_type": "markdown",
      "source": [
        "We can draw some generalizations from this plot since men and women are equally represented. We can observe that there is a gender difference in terms of utilization. Men account for the majority of daily drug users, whereas women account for the majority of all other types of usage."
      ],
      "metadata": {
        "id": "6PpzCA8hmCWL"
      }
    },
    {
      "cell_type": "code",
      "source": [
        "#user/non-user by education level\n",
        "education=pd.concat([drug_consumption_viz[drug_consumption_viz['Illegal drug user/non-user'] == 'User']['Education'].value_counts(),drug_consumption_viz[drug_consumption_viz['Illegal drug user/non-user'] == 'Non-user']['Education'].value_counts()],axis=1,keys=['User','Non-user'])\n",
        "\n",
        "EducationPlot = education.plot(kind='bar',figsize=(10,6),alpha=0.6,grid=True,color=['#406788','#023e8a'])\n",
        "EducationPlot.set(ylabel = 'Number of Users', xlabel='Gender')\n",
        "\n",
        "EducationLabels = ['Some college or university, no certificate or degree','University degree','Masters degree','Professional certificate/ diploma','Left school at 18 years','Left school at 16 years','Doctorate degree','Left school at 17 years','Left school before 16 years']\n",
        "EducationPlot.set_xticklabels(EducationLabels)\n",
        "EducationPlot;"
      ],
      "metadata": {
        "id": "Gq1_MNN7l8e1"
      },
      "execution_count": null,
      "outputs": []
    },
    {
      "cell_type": "markdown",
      "source": [
        "We can see that the majority of the user have a good education level."
      ],
      "metadata": {
        "id": "EkFt7B7wmIDA"
      }
    },
    {
      "cell_type": "markdown",
      "source": [
        "# Personality traits"
      ],
      "metadata": {
        "id": "IibKn5gSmKDM"
      }
    },
    {
      "cell_type": "code",
      "source": [
        "#Personality traits score for user/non user \n",
        "#lets create a  new dataframe for an easier plot\n",
        "rows = []\n",
        "for i in personality_columns :\n",
        "    rows.append([drug_consumption_viz[drug_consumption_viz['Illegal drug user/non-user'] == 'User'][i].mean(), drug_consumption_viz[drug_consumption_viz['Illegal drug user/non-user'] == 'Non-user'][i].mean()])\n",
        "df = pd.DataFrame(rows, columns=[\"User\", \"Non-user\"],index=['Neuroticism','Extraversion','Agreeableness','Impusivity','Conscientiousness','Openness to experience','Sensation-seeking']) \n",
        "\n",
        "#Let's plot this new dataframe\n",
        "fig, ax = plt.subplots()\n",
        "fig.suptitle('Personality traits mean score for user/non user ')\n",
        "fig.set_size_inches(12, 9)\n",
        "sns.lineplot(data=df,markers=True, dashes=False, palette=\"flare\",sizes=(.25, 2.5))\n",
        "ax.tick_params(axis='x', rotation=30)\n",
        "sns.despine()"
      ],
      "metadata": {
        "id": "q3NXBWaAmFXm"
      },
      "execution_count": null,
      "outputs": []
    },
    {
      "cell_type": "markdown",
      "source": [
        "We plotted the mean score for each personality feature for consumers and non-consumers by generating a new column depending on yearly illicit substance intake. Although there appears to be a substantial link between consumption and modifying behavior, personality attributes appear to be diametrically opposite. It's intriguing since we may claim that the usage of drugs alters the participants' behavior. The question of how changes in personality will influence how we create our ML model later."
      ],
      "metadata": {
        "id": "9TApgZd4mPKb"
      }
    },
    {
      "cell_type": "markdown",
      "source": [
        "# Correlation between the features\n",
        "We need numeral data for an heatmap"
      ],
      "metadata": {
        "id": "mmEq17SDmWld"
      }
    },
    {
      "cell_type": "code",
      "source": [
        "for i in drugs_columns:\n",
        "    drug_consumption[i] = drug_consumption[i].map({'CL0': 0, 'CL1': 1, 'CL2': 2, 'CL3': 3, 'CL4': 4, 'CL5': 5, 'CL6': 6})"
      ],
      "metadata": {
        "id": "xjSGhDtvmNAc"
      },
      "execution_count": null,
      "outputs": []
    },
    {
      "cell_type": "code",
      "source": [
        "#drugs data\n",
        "corrmat = drug_consumption.corr()\n",
        "\n",
        "plt.figure(figsize=(19,19))\n",
        "\n",
        "sns.set(font_scale=1)\n",
        "hm = sns.heatmap(corrmat,cmap = 'RdYlGn',annot=True,yticklabels = drug_consumption.columns, xticklabels = drug_consumption.columns)\n",
        "plt.xticks(fontsize=13,rotation=50)\n",
        "plt.yticks(fontsize=13)\n",
        "plt.title(\"Correlation B/W Different Features\",fontsize=18)\n",
        "plt.show()"
      ],
      "metadata": {
        "id": "yfe9ppZemZwo"
      },
      "execution_count": null,
      "outputs": []
    },
    {
      "cell_type": "markdown",
      "source": [
        "# Cleaning Data (ML prep) 🦾"
      ],
      "metadata": {
        "id": "6vMJgaIkmgSn"
      }
    },
    {
      "cell_type": "markdown",
      "source": [
        "Reload the dataset."
      ],
      "metadata": {
        "id": "necSF5GBmqPO"
      }
    },
    {
      "cell_type": "code",
      "source": [
        "path =  'https://archive.ics.uci.edu/ml/machine-learning-databases/00373/drug_consumption.data'\n",
        "title=['ID','Age','Gender','Education','Country','Ethnicity','Nscore','Escore','Oscore','Ascore','Cscore','Impulsive','SS','Alcohol','Amphet',' Amyl','Benzos','Caff','Canabis','Choc','Coke','Crack','Extasy','Heroin','Ketamine','Leghal','LSD','Meth','Mushrooms','Nicotine','sumer','VSA']\n",
        "drug_consumption = pd.read_csv(path,sep=',',names=title)\n",
        "drug_consumption.head()"
      ],
      "metadata": {
        "id": "l0R-udptmbMH"
      },
      "execution_count": null,
      "outputs": []
    },
    {
      "cell_type": "markdown",
      "source": [
        "Divided drug use into two categories: users and non-users. If the substance was taken during the previous year, the individual is deemed a user, otherwise, the individual is considered a non-user."
      ],
      "metadata": {
        "id": "DVL2X59mmyHn"
      }
    },
    {
      "cell_type": "code",
      "source": [
        "drug_consumption['Illegal drug user/non-user']=drug_consumption_viz[drugs_illegal[:-1]].max(axis=1)"
      ],
      "metadata": {
        "id": "JxwYxQROmsMY"
      },
      "execution_count": null,
      "outputs": []
    },
    {
      "cell_type": "code",
      "source": [
        "drug_consumption.isnull().sum() #0 there is no missing value"
      ],
      "metadata": {
        "id": "QQ8Jx-e8m3R3"
      },
      "execution_count": null,
      "outputs": []
    },
    {
      "cell_type": "code",
      "source": [
        "#encoding because most of our machine learning codes do not understand categorical data\n",
        "for i in drugs_columns:\n",
        "    drug_consumption[i] = drug_consumption[i].map({'CL0': 0, 'CL1': 1, 'CL2': 2, 'CL3': 3, 'CL4': 4, 'CL5': 5, 'CL6': 6})"
      ],
      "metadata": {
        "id": "dKDM8vvjm4oi"
      },
      "execution_count": null,
      "outputs": []
    },
    {
      "cell_type": "code",
      "source": [
        "# because our variables Age,Gender,... should be categorical, let's change their type \n",
        "for i in (demographic_columns+drugs_legal):\n",
        "  drug_consumption[i]=drug_consumption[i].astype('category')"
      ],
      "metadata": {
        "id": "sPHSjS-rm66u"
      },
      "execution_count": null,
      "outputs": []
    },
    {
      "cell_type": "code",
      "source": [
        "#we can drop countries\n",
        "drug_consumption_ml=drug_consumption.copy()\n",
        "#we drop the ID because it do not provide any important information\n",
        "drug_consumption_ml.drop(['ID'], axis = 1,inplace=True)\n",
        "#we drop all values in the illegal drug columns (because it is our output)\n",
        "drug_consumption_ml.drop(drugs_illegal, axis = 1,inplace=True)\n",
        "drug_consumption_ml"
      ],
      "metadata": {
        "id": "R80djm7bm-xU"
      },
      "execution_count": null,
      "outputs": []
    },
    {
      "cell_type": "code",
      "source": [
        "#In order to get a binary output \n",
        "def binary_transformation(Y):\n",
        "  for x in range(len(Y)):\n",
        "   if(Y[x]=='User'):Y[x]=1\n",
        "   else :Y[x]=0 \n",
        "  return Y.astype('int')\n",
        "drug_consumption_ml['Illegal drug user/non-user']=binary_transformation(drug_consumption_ml['Illegal drug user/non-user'])"
      ],
      "metadata": {
        "id": "VcD7c-2ZnRKt"
      },
      "execution_count": null,
      "outputs": []
    },
    {
      "cell_type": "code",
      "source": [
        "drug_consumption_ml"
      ],
      "metadata": {
        "id": "IHXkFw_KnTs4"
      },
      "execution_count": null,
      "outputs": []
    },
    {
      "cell_type": "markdown",
      "source": [
        "# Split and Standardize the data "
      ],
      "metadata": {
        "id": "_vC6quLgnhfZ"
      }
    },
    {
      "cell_type": "code",
      "source": [
        "#Machine learning cleaning and boosting\n",
        "from sklearn.model_selection import train_test_split\n",
        "from sklearn import preprocessing\n",
        "from sklearn.preprocessing import StandardScaler"
      ],
      "metadata": {
        "id": "l5sY9P9lnVxl"
      },
      "execution_count": null,
      "outputs": []
    },
    {
      "cell_type": "code",
      "source": [
        "X=drug_consumption_ml.iloc[:,:-1] # everything except the two last columns\n",
        "Y=drug_consumption_ml['Illegal drug user/non-user'] #the last column with binary output"
      ],
      "metadata": {
        "id": "ATEpDjANnq8H"
      },
      "execution_count": null,
      "outputs": []
    },
    {
      "cell_type": "markdown",
      "source": [
        "SPLIT"
      ],
      "metadata": {
        "id": "UIwukJRbnvEW"
      }
    },
    {
      "cell_type": "code",
      "source": [
        "X_train, X_test,y_train,y_test=train_test_split(X, Y, test_size= 0.33)"
      ],
      "metadata": {
        "id": "klJCxSXsnsS5"
      },
      "execution_count": null,
      "outputs": []
    },
    {
      "cell_type": "markdown",
      "source": [
        "STANDARDIZE"
      ],
      "metadata": {
        "id": "JftkuqSKny8w"
      }
    },
    {
      "cell_type": "code",
      "source": [
        "scaler=StandardScaler()\n",
        "scaler.fit(X_train)\n",
        "X_train=scaler.transform(X_train)\n",
        "X_test=scaler.transform(X_test)"
      ],
      "metadata": {
        "id": "n-H2fHZ5nxh-"
      },
      "execution_count": null,
      "outputs": []
    },
    {
      "cell_type": "markdown",
      "source": [
        "# Machine learning models to predict ⚡"
      ],
      "metadata": {
        "id": "QubkLk58n2tw"
      }
    },
    {
      "cell_type": "code",
      "source": [
        "#models \n",
        "from sklearn.model_selection import GridSearchCV\n",
        "from sklearn.ensemble import RandomForestRegressor\n",
        "from sklearn.ensemble import VotingRegressor\n",
        "from sklearn.neighbors import KNeighborsClassifier\n",
        "from sklearn.linear_model import LogisticRegression\n",
        "from sklearn.ensemble import RandomForestClassifier\n",
        "from sklearn.tree import DecisionTreeClassifier\n",
        "from sklearn.svm import SVC\n",
        "from sklearn.svm import LinearSVC\n",
        "from sklearn.naive_bayes import GaussianNB\n",
        "from sklearn.metrics import f1_score \n",
        "from sklearn.metrics import recall_score \n",
        "from sklearn.metrics import precision_score \n",
        "from sklearn.metrics import accuracy_score\n",
        "from sklearn.metrics import mean_squared_error"
      ],
      "metadata": {
        "id": "HOCZZXEan00X"
      },
      "execution_count": null,
      "outputs": []
    },
    {
      "cell_type": "markdown",
      "source": [
        "# Logistic Regression\n",
        "For the base-line model, we consider the multiple linear regression model from sklearn.linear_model library LogisticRegression. It's a tatistical model that in its basic form uses a logistic function to model a binary dependent variable, although many more complex extensions exist. In regression analysis, logistic regression (or logit regression) is estimating the parameters of a logistic model (a form of binary regression)."
      ],
      "metadata": {
        "id": "OEySg_27pivF"
      }
    },
    {
      "cell_type": "code",
      "source": [
        "sns.regplot(x=drug_consumption_ml['Oscore'].astype('int'), y=Y, data=drug_consumption_ml, logistic=True, ci=None,scatter_kws={'color': 'black'}, line_kws={'color': 'red'});"
      ],
      "metadata": {
        "id": "Au8PP3N6oWq-"
      },
      "execution_count": null,
      "outputs": []
    },
    {
      "cell_type": "code",
      "source": [
        "algo=LogisticRegression(C=0, penalty='none')\n",
        "algo.fit(X_train, y_train)\n",
        "pred = algo.predict(X_test)\n",
        "accuracy_lr=accuracy_score(y_test, pred)\n",
        "f_score_lr=f1_score(y_test, pred, average='binary')\n",
        "recall_lr=recall_score(y_test, pred)\n",
        "precision_lr=precision_score(y_test, pred)\n",
        "print('Logistic Regression Accuracy : {0:4f} %'.format(accuracy_score(y_test, pred)*100))"
      ],
      "metadata": {
        "id": "COAB6d-Iogjn"
      },
      "execution_count": null,
      "outputs": []
    },
    {
      "cell_type": "code",
      "source": [
        "#LogisticRegression().get_params().keys()\n",
        "def grid_lr():\n",
        "  grid_params={\"C\":[0,1,2,3,4],\n",
        "               \"penalty\":[\"l1\",\"l2\", 'elasticnet', 'none']}\n",
        "  grid = GridSearchCV(LogisticRegression(), grid_params, cv=3,n_jobs=-1,scoring='accuracy')            \n",
        "  grid.fit(X_train,y_train)\n",
        "  return(grid.best_score_,grid.best_estimator_)"
      ],
      "metadata": {
        "id": "tL9ffT2fppnB"
      },
      "execution_count": null,
      "outputs": []
    },
    {
      "cell_type": "markdown",
      "source": [
        "With the grid_lr() method performing a gridsearch we foud out that the best hyperparameters were (C=0, penalty='none')"
      ],
      "metadata": {
        "id": "7-xFTpwQpr_6"
      }
    },
    {
      "cell_type": "markdown",
      "source": [
        "# Linear SVC"
      ],
      "metadata": {
        "id": "zBwCzZTDpvtV"
      }
    },
    {
      "cell_type": "markdown",
      "source": [
        "The objective of a Linear SVC (Support Vector Classifier) is to fit to the data you provide, returning a \"best fit\" hyperplane that divides, or categorizes, your data. From there, after getting the hyperplane, you can then feed some features to your classifier to see what the \"predicted\" class is."
      ],
      "metadata": {
        "id": "NpVS0zejpyQf"
      }
    },
    {
      "cell_type": "code",
      "source": [
        "algo=LinearSVC(C=2)\n",
        "algo.fit(X_train, y_train)\n",
        "pred = algo.predict(X_test)\n",
        "accuracy_linearsvc=accuracy_score(y_test, pred)\n",
        "f_score_linearsvc=f1_score(y_test, pred, average='binary')\n",
        "recall_linearsvc=recall_score(y_test, pred)\n",
        "precision_linearsvc=precision_score(y_test, pred)\n",
        "print('Logistic Regression Accuracy : {0:4f} %'.format(accuracy_score(y_test, pred)*100))"
      ],
      "metadata": {
        "id": "f9ZsX8TnprZE"
      },
      "execution_count": null,
      "outputs": []
    },
    {
      "cell_type": "code",
      "source": [
        "#LinearSVC().get_params().keys()\n",
        "def grid_linearsvc():\n",
        "  grid_params={\"C\":[0,1,2,3,4],\n",
        "               \"penalty\":[\"l1\",\"l2\"],\n",
        "               \"loss\":[\"hinge\",\"squared_hinge\"],}\n",
        "  grid = GridSearchCV(LinearSVC(), grid_params, cv=3,n_jobs=-1)            \n",
        "  grid.fit(X_train,y_train)\n",
        "  return(grid.best_score_,grid.best_estimator_)"
      ],
      "metadata": {
        "id": "5hEsejllqAJY"
      },
      "execution_count": null,
      "outputs": []
    },
    {
      "cell_type": "markdown",
      "source": [
        "# Random Forest\n"
      ],
      "metadata": {
        "id": "AfnBIiYsqIYn"
      }
    },
    {
      "cell_type": "markdown",
      "source": [
        "The random forest is a classification technique that uses numerous decision trees to classify data. When creating each individual tree, it employs bagging and feature randomization in order to generate an uncorrelated forest of trees whose committee prediction is more accurate than that of any one tree."
      ],
      "metadata": {
        "id": "lmHyiD_uqLjX"
      }
    },
    {
      "cell_type": "code",
      "source": [
        "algo=RandomForestClassifier(ccp_alpha=0.001, max_depth=9, max_features='log2',n_estimators=200)\n",
        "# #ccp_alpha=0.002, max_depth=7, max_features='sqrt',min_samples_split=3\n",
        "#random.seed(10)\n",
        "algo.fit(X_train, y_train)\n",
        "pred = algo.predict(X_test)\n",
        "accuracy_RFC=accuracy_score(y_test, pred)\n",
        "f_score_RFC=f1_score(y_test, pred, average='binary')\n",
        "recall_RFC=recall_score(y_test, pred)\n",
        "precision_RFC=precision_score(y_test, pred)\n",
        "\n",
        "print('Logistic Regression Accuracy : {0:4f} %'.format(accuracy_score(y_test, pred)*100))"
      ],
      "metadata": {
        "id": "VIQhiw5oqMHT"
      },
      "execution_count": null,
      "outputs": []
    },
    {
      "cell_type": "code",
      "source": [
        "#RandomForestClassifier().get_params().keys()\n",
        "def grid_rf():\n",
        "  grid_params={\n",
        "              'n_estimators':np.arange(100,501,100)\n",
        "              # 'max_features': ['auto', 'sqrt', 'log2'],\n",
        "              # 'min_samples_split':[2,3,5],\n",
        "              # 'min_samples_leaf':[1,5,8],\n",
        "              # 'ccp_alpha': [0.1, .01, .001,0.002,0.005],\n",
        "              # 'max_depth' : [1,2,3,4,5, 6, 7, 8, 9]\n",
        "               }\n",
        "  grid = GridSearchCV(RandomForestClassifier(ccp_alpha=0.001, max_depth=9, max_features='log2'), grid_params, cv=3,n_jobs=-1,scoring='accuracy')            \n",
        "  grid.fit(X_train,y_train)\n",
        "  return(grid.best_score_,grid.best_estimator_)"
      ],
      "metadata": {
        "id": "cGAwGy9jqNXd"
      },
      "execution_count": null,
      "outputs": []
    },
    {
      "cell_type": "markdown",
      "source": [
        "# Decision Tree"
      ],
      "metadata": {
        "id": "u5o943C5qRRu"
      }
    },
    {
      "cell_type": "markdown",
      "source": [
        "A decision tree is a type of prediction algorithm that operates by asking the inputted data a binary question. Then, depending on the response, it leads to a follow-up inquiry or a final categorization function."
      ],
      "metadata": {
        "id": "3y-o2P8NqVkg"
      }
    },
    {
      "cell_type": "code",
      "source": [
        "clf_dtc = DecisionTreeClassifier(ccp_alpha=0.002, max_depth=7, max_features='log2',\n",
        "                        min_samples_leaf=5, min_samples_split=3)\n",
        "#best ccp_alpha=0.001, max_depth=8, max_features='auto',min_samples_leaf=4,criterion='gini'\n",
        "clf_dtc.fit(X_train, y_train)\n",
        "pred = clf_dtc.predict(X_test)"
      ],
      "metadata": {
        "id": "04C41o5nqRAh"
      },
      "execution_count": null,
      "outputs": []
    },
    {
      "cell_type": "code",
      "source": [
        "accuracy_dt = accuracy_score(y_test,pred)\n",
        "f_score_dt=f1_score(y_test, pred, average='binary')\n",
        "recall_dt=recall_score(y_test, pred, average='binary')\n",
        "precision_dt=precision_score(y_test, pred, average='binary')\n",
        "print(\"Accuracy: %.2f%%\" % (accuracy_dt * 100.0))"
      ],
      "metadata": {
        "id": "a_8CYvzZqOs4"
      },
      "execution_count": null,
      "outputs": []
    },
    {
      "cell_type": "code",
      "source": [
        "#DecisionTreeClassifier().get_params().keys()\n",
        "def grid_dt():\n",
        "  tree_param = {\n",
        "              'max_features': ['auto', 'sqrt', 'log2'],\n",
        "              'min_samples_split':[2,3,5],\n",
        "              'min_samples_leaf':[1,5,8],\n",
        "              'ccp_alpha': [0.1, .01, .001,0.002,0.005],\n",
        "              'max_depth' : [1,2,3,4,5, 6, 7, 8, 9],\n",
        "              'criterion' :['gini']}\n",
        "  clf=GridSearchCV(DecisionTreeClassifier(), tree_param, cv=5)            \n",
        "  clf.fit(X_train,y_train)\n",
        "  return(clf.best_score_,clf.best_estimator_)"
      ],
      "metadata": {
        "id": "sC1S651xqY1E"
      },
      "execution_count": null,
      "outputs": []
    },
    {
      "cell_type": "markdown",
      "source": [
        "With the grid_dt() method performing a gridsearch we foud out that the best hyperparameters were (ccp_alpha=0.002, max_depth=7, max_features='log2', min_samples_leaf=5, min_samples_split=3)"
      ],
      "metadata": {
        "id": "4bhnGjWLqiKN"
      }
    },
    {
      "cell_type": "markdown",
      "source": [
        "# KNN"
      ],
      "metadata": {
        "id": "dC8u7S_9qktA"
      }
    },
    {
      "cell_type": "markdown",
      "source": [
        "A k-nearest-neighbor algorithm is a data categorization method that assesses how likely a data point is to belong to one of two groups based on which group the data points closest to it belong to."
      ],
      "metadata": {
        "id": "VQ2zHzi1qnCf"
      }
    },
    {
      "cell_type": "code",
      "source": [
        "clf = KNeighborsClassifier(metric='manhattan', weights='distance',p=1,n_neighbors=10)\n",
        "clf.fit(X_train,y_train)\n",
        "pred = clf.predict(X_test)"
      ],
      "metadata": {
        "id": "HJPNlOEuqaQA"
      },
      "execution_count": null,
      "outputs": []
    },
    {
      "cell_type": "code",
      "source": [
        "accuracy_knn = accuracy_score(y_test,pred)\n",
        "f_score_knn=f1_score(y_test, pred, average='binary')\n",
        "recall_knn=recall_score(y_test, pred, average='binary')\n",
        "precision_knn=precision_score(y_test, pred, average='binary')\n",
        "print(\"Accuracy: %.2f%%\" % (accuracy_knn * 100.0))"
      ],
      "metadata": {
        "id": "eg7umA4fqpEp"
      },
      "execution_count": null,
      "outputs": []
    },
    {
      "cell_type": "code",
      "source": [
        "#KNeighborsClassifier().get_params().keys()\n",
        "def grid_knn():\n",
        "  grid_params={'n_neighbors':[3,5,10],\n",
        "             'leaf_size':[30,50,100],\n",
        "             'weights':['uniform','distance'],\n",
        "             'metric':['euclidean','manhattan'],\n",
        "             'p':[1,2]}\n",
        "  grid = GridSearchCV(KNeighborsClassifier(), grid_params, cv=3,n_jobs=-1,scoring='accuracy')            \n",
        "  grid.fit(X_train,y_train)\n",
        "  return(grid.best_score_,grid.best_estimator_)"
      ],
      "metadata": {
        "id": "RdC4iefiqqOE"
      },
      "execution_count": null,
      "outputs": []
    },
    {
      "cell_type": "markdown",
      "source": [
        "# SVM"
      ],
      "metadata": {
        "id": "gFW-WOcAqw0S"
      }
    },
    {
      "cell_type": "markdown",
      "source": [
        "Support vector machines (SVMs) are a set of supervised learning methods used for classification, regression and outliers detection. The advantages of support vector machines are: Effective in high dimensional spaces. "
      ],
      "metadata": {
        "id": "Dtc07icDtaA9"
      }
    },
    {
      "cell_type": "code",
      "source": [
        "svm = SVC(kernel=\"rbf\", C=0.1, gamma=0.01)\n",
        "svm.fit(X_train,y_train)\n",
        "pred = svm.predict(X_test)"
      ],
      "metadata": {
        "id": "_R5ZwX4AqreC"
      },
      "execution_count": null,
      "outputs": []
    },
    {
      "cell_type": "code",
      "source": [
        "accuracy_svm = accuracy_score(y_test,pred)\n",
        "f_score_svm=f1_score(y_test, pred, average='binary')\n",
        "recall_svm=recall_score(y_test, pred, average='binary')\n",
        "precision_svm=precision_score(y_test, pred, average='binary')\n",
        "print(\"Accuracy: %.2f%%\" % (accuracy_svm * 100.0))"
      ],
      "metadata": {
        "id": "I6PJhJSBqzVo"
      },
      "execution_count": null,
      "outputs": []
    },
    {
      "cell_type": "code",
      "source": [
        "# C: It is the regularization parameter, C, of the error term.\n",
        "# kernel: It specifies the kernel type to be used in the algorithm. It can be ‘linear’, ‘poly’, ‘rbf’, ‘sigmoid’, ‘precomputed’, or callable. The default value is ‘rbf’.\n",
        "# degree: It is the degree of the polynomial kernel function (‘poly’) and is ignored by all other kernels. The default value is 3.\n",
        "# gamma: It is the kernel coefficient for ‘rbf’, ‘poly’, and ‘sigmoid’. If gamma is ‘auto’, then 1/n_features will be used instead.\n",
        "\n",
        "def grid_svc():\n",
        "  parameters = {\n",
        "    'C':[0.1,1,100,1000], \n",
        "    'kernel':['rbf'],\n",
        "    'gamma': [1, 0.1, 0.01, 0.001, 0.0001]}\n",
        "  grid=GridSearchCV(SVC(),parameters,n_jobs=-1)\n",
        "  grid.fit(X_train,y_train)\n",
        "  return(grid.best_score_,grid.best_estimator_) "
      ],
      "metadata": {
        "id": "67paSM_Dq0ds"
      },
      "execution_count": null,
      "outputs": []
    },
    {
      "cell_type": "markdown",
      "source": [
        "# The best model?? "
      ],
      "metadata": {
        "id": "zqdWXKMXq93l"
      }
    },
    {
      "cell_type": "code",
      "source": [
        "score_dico={\n",
        "    'Logistic Regression':[accuracy_lr,f_score_lr,recall_lr,precision_lr],\n",
        "    'Linear SVC':[accuracy_linearsvc,f_score_linearsvc,recall_linearsvc,precision_linearsvc],\n",
        "    'Random forest classifier':[accuracy_RFC,f_score_RFC,recall_RFC,precision_RFC],\n",
        "    'Decision Tree classifier':[accuracy_dt,f_score_dt,recall_dt,precision_dt],\n",
        "    'KNN':[accuracy_knn,f_score_knn,recall_knn,precision_knn],\n",
        "   }  "
      ],
      "metadata": {
        "id": "y6CmAqGQq4r5"
      },
      "execution_count": null,
      "outputs": []
    },
    {
      "cell_type": "code",
      "source": [
        "dataframe=pd.DataFrame.from_dict(score_dico,orient='index')\n",
        "#dataframe.index/dataframe.values\n",
        "dataframe.sort_values(by=2,ascending=True,inplace=True)\n",
        "dataframe.rename(columns={0: 'Accuracy',1:'F_score',2:'Recall',3:'Precision'},inplace=True)\n",
        "dataframe"
      ],
      "metadata": {
        "id": "iuVvvBhYrCo_"
      },
      "execution_count": null,
      "outputs": []
    },
    {
      "cell_type": "code",
      "source": [
        "ax = plt.gca()\n",
        "plt.rcParams[\"figure.figsize\"] = (13,13)\n",
        "plt.title(\"Evolution of the scores according to the different algorithms\")\n",
        "plt.subplot()\n",
        "#Courbes\n",
        "dataframe.plot(kind='line', y='Accuracy',ax=ax)\n",
        "dataframe.plot(kind='line', y='F_score',ax=ax)\n",
        "dataframe.plot(kind='line', y='Recall',ax=ax)\n",
        "dataframe.plot(kind='bar', y='Precision',ax=ax)\n",
        "plt.xticks(range(len(dataframe.index)), dataframe.index,rotation=40)\n",
        "#labels\n",
        "plt.ylabel('Scores')\n",
        "plt.xlabel('Algos')\n",
        "#plot\n",
        "plt.grid()\n",
        "plt.show()\n"
      ],
      "metadata": {
        "id": "VAVwTQX0rOgW"
      },
      "execution_count": null,
      "outputs": []
    },
    {
      "cell_type": "markdown",
      "source": [
        "The purpose of our forecasts is to predict whether someone will be a drug user or not. Especially, we want our algorithm to allow professionals such as psychologists etc. to identify actual users or futur ones. To do so, we aim to lower the False positives rate and maximize our recall. However, we'll also keep an eye on other measures like accuracy, precision, and, as a result, the f1-score (wich is the report between recall and precision)\n",
        "\n",
        "As we can analyse the best results from our Machine learning exploration were on with the KNN , then the Linear SVC and finally the Logistic Regression."
      ],
      "metadata": {
        "id": "uW-sGbPPrY2z"
      }
    },
    {
      "cell_type": "code",
      "source": [
        ""
      ],
      "metadata": {
        "id": "ex3t949srQBG"
      },
      "execution_count": null,
      "outputs": []
    }
  ]
}